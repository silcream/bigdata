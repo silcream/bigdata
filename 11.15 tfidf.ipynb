{
 "cells": [
  {
   "cell_type": "code",
   "execution_count": 1,
   "id": "a3fad7cf",
   "metadata": {},
   "outputs": [],
   "source": [
    "import warnings\n",
    "warnings.filterwarnings('ignore')"
   ]
  },
  {
   "cell_type": "code",
   "execution_count": 2,
   "id": "240a373e",
   "metadata": {},
   "outputs": [],
   "source": [
    "from sklearn.feature_extraction.text import CountVectorizer\n",
    "import numpy as np"
   ]
  },
  {
   "cell_type": "code",
   "execution_count": 3,
   "id": "c8ee9e3c",
   "metadata": {},
   "outputs": [],
   "source": [
    "documents = [\n",
    "    '배가 부르다',\n",
    "    '배의 가격이 비싸다',\n",
    "    '진짜 사과가 진짜 좋다.',\n",
    "    '아침에 사과가 좋다'\n",
    "]"
   ]
  },
  {
   "cell_type": "code",
   "execution_count": 4,
   "id": "51aae785",
   "metadata": {},
   "outputs": [
    {
     "data": {
      "text/plain": [
       "['배가 부르다', '배의 가격이 비싸다', '진짜 사과가 진짜 좋다.', '아침에 사과가 좋다']"
      ]
     },
     "execution_count": 4,
     "metadata": {},
     "output_type": "execute_result"
    }
   ],
   "source": [
    "documents"
   ]
  },
  {
   "cell_type": "code",
   "execution_count": 5,
   "id": "f8915056",
   "metadata": {},
   "outputs": [],
   "source": [
    "vectorizer = CountVectorizer()"
   ]
  },
  {
   "cell_type": "code",
   "execution_count": 6,
   "id": "246beec8",
   "metadata": {},
   "outputs": [
    {
     "data": {
      "text/plain": [
       "array([[0, 1, 0, 1, 0, 0, 0, 0, 0],\n",
       "       [1, 0, 1, 0, 1, 0, 0, 0, 0],\n",
       "       [0, 0, 0, 0, 0, 1, 0, 1, 2],\n",
       "       [0, 0, 0, 0, 0, 1, 1, 1, 0]], dtype=int64)"
      ]
     },
     "execution_count": 6,
     "metadata": {},
     "output_type": "execute_result"
    }
   ],
   "source": [
    "dtm = vectorizer.fit_transform(documents)\n",
    "dtm.toarray()"
   ]
  },
  {
   "cell_type": "code",
   "execution_count": 7,
   "id": "15f07de4",
   "metadata": {},
   "outputs": [
    {
     "data": {
      "text/plain": [
       "['가격이', '배가', '배의', '부르다', '비싸다', '사과가', '아침에', '좋다', '진짜']"
      ]
     },
     "execution_count": 7,
     "metadata": {},
     "output_type": "execute_result"
    }
   ],
   "source": [
    "vectorizer.get_feature_names()"
   ]
  },
  {
   "cell_type": "code",
   "execution_count": 8,
   "id": "55e9b251",
   "metadata": {},
   "outputs": [
    {
     "data": {
      "text/html": [
       "<div>\n",
       "<style scoped>\n",
       "    .dataframe tbody tr th:only-of-type {\n",
       "        vertical-align: middle;\n",
       "    }\n",
       "\n",
       "    .dataframe tbody tr th {\n",
       "        vertical-align: top;\n",
       "    }\n",
       "\n",
       "    .dataframe thead th {\n",
       "        text-align: right;\n",
       "    }\n",
       "</style>\n",
       "<table border=\"1\" class=\"dataframe\">\n",
       "  <thead>\n",
       "    <tr style=\"text-align: right;\">\n",
       "      <th></th>\n",
       "      <th>가격이</th>\n",
       "      <th>배가</th>\n",
       "      <th>배의</th>\n",
       "      <th>부르다</th>\n",
       "      <th>비싸다</th>\n",
       "      <th>사과가</th>\n",
       "      <th>아침에</th>\n",
       "      <th>좋다</th>\n",
       "      <th>진짜</th>\n",
       "    </tr>\n",
       "  </thead>\n",
       "  <tbody>\n",
       "    <tr>\n",
       "      <th>0</th>\n",
       "      <td>0</td>\n",
       "      <td>1</td>\n",
       "      <td>0</td>\n",
       "      <td>1</td>\n",
       "      <td>0</td>\n",
       "      <td>0</td>\n",
       "      <td>0</td>\n",
       "      <td>0</td>\n",
       "      <td>0</td>\n",
       "    </tr>\n",
       "    <tr>\n",
       "      <th>1</th>\n",
       "      <td>1</td>\n",
       "      <td>0</td>\n",
       "      <td>1</td>\n",
       "      <td>0</td>\n",
       "      <td>1</td>\n",
       "      <td>0</td>\n",
       "      <td>0</td>\n",
       "      <td>0</td>\n",
       "      <td>0</td>\n",
       "    </tr>\n",
       "    <tr>\n",
       "      <th>2</th>\n",
       "      <td>0</td>\n",
       "      <td>0</td>\n",
       "      <td>0</td>\n",
       "      <td>0</td>\n",
       "      <td>0</td>\n",
       "      <td>1</td>\n",
       "      <td>0</td>\n",
       "      <td>1</td>\n",
       "      <td>2</td>\n",
       "    </tr>\n",
       "    <tr>\n",
       "      <th>3</th>\n",
       "      <td>0</td>\n",
       "      <td>0</td>\n",
       "      <td>0</td>\n",
       "      <td>0</td>\n",
       "      <td>0</td>\n",
       "      <td>1</td>\n",
       "      <td>1</td>\n",
       "      <td>1</td>\n",
       "      <td>0</td>\n",
       "    </tr>\n",
       "  </tbody>\n",
       "</table>\n",
       "</div>"
      ],
      "text/plain": [
       "   가격이  배가  배의  부르다  비싸다  사과가  아침에  좋다  진짜\n",
       "0    0   1   0    1    0    0    0   0   0\n",
       "1    1   0   1    0    1    0    0   0   0\n",
       "2    0   0   0    0    0    1    0   1   2\n",
       "3    0   0   0    0    0    1    1   1   0"
      ]
     },
     "execution_count": 8,
     "metadata": {},
     "output_type": "execute_result"
    }
   ],
   "source": [
    "import pandas as pd\n",
    "tf = pd.DataFrame(dtm.toarray(), columns = vectorizer.get_feature_names())\n",
    "tf"
   ]
  },
  {
   "cell_type": "code",
   "execution_count": 9,
   "id": "08ce91ab",
   "metadata": {},
   "outputs": [
    {
     "data": {
      "text/plain": [
       "가격이    1\n",
       "배가     1\n",
       "배의     1\n",
       "부르다    1\n",
       "비싸다    1\n",
       "사과가    2\n",
       "아침에    1\n",
       "좋다     2\n",
       "진짜     1\n",
       "dtype: int64"
      ]
     },
     "execution_count": 9,
     "metadata": {},
     "output_type": "execute_result"
    }
   ],
   "source": [
    "df = tf.astype(bool).sum(axis = 0)\n",
    "df"
   ]
  },
  {
   "cell_type": "code",
   "execution_count": 10,
   "id": "028d8118",
   "metadata": {},
   "outputs": [
    {
     "data": {
      "text/plain": [
       "가격이    1.916291\n",
       "배가     1.916291\n",
       "배의     1.916291\n",
       "부르다    1.916291\n",
       "비싸다    1.916291\n",
       "사과가    1.510826\n",
       "아침에    1.916291\n",
       "좋다     1.510826\n",
       "진짜     1.916291\n",
       "dtype: float64"
      ]
     },
     "execution_count": 10,
     "metadata": {},
     "output_type": "execute_result"
    }
   ],
   "source": [
    "D = len(tf)\n",
    "\n",
    "idf = np.log((D+1) / (df + 1)) + 1\n",
    "idf"
   ]
  },
  {
   "cell_type": "code",
   "execution_count": 11,
   "id": "952fc7df",
   "metadata": {},
   "outputs": [
    {
     "data": {
      "text/html": [
       "<div>\n",
       "<style scoped>\n",
       "    .dataframe tbody tr th:only-of-type {\n",
       "        vertical-align: middle;\n",
       "    }\n",
       "\n",
       "    .dataframe tbody tr th {\n",
       "        vertical-align: top;\n",
       "    }\n",
       "\n",
       "    .dataframe thead th {\n",
       "        text-align: right;\n",
       "    }\n",
       "</style>\n",
       "<table border=\"1\" class=\"dataframe\">\n",
       "  <thead>\n",
       "    <tr style=\"text-align: right;\">\n",
       "      <th></th>\n",
       "      <th>가격이</th>\n",
       "      <th>배가</th>\n",
       "      <th>배의</th>\n",
       "      <th>부르다</th>\n",
       "      <th>비싸다</th>\n",
       "      <th>사과가</th>\n",
       "      <th>아침에</th>\n",
       "      <th>좋다</th>\n",
       "      <th>진짜</th>\n",
       "    </tr>\n",
       "  </thead>\n",
       "  <tbody>\n",
       "    <tr>\n",
       "      <th>0</th>\n",
       "      <td>0.000000</td>\n",
       "      <td>1.916291</td>\n",
       "      <td>0.000000</td>\n",
       "      <td>1.916291</td>\n",
       "      <td>0.000000</td>\n",
       "      <td>0.000000</td>\n",
       "      <td>0.000000</td>\n",
       "      <td>0.000000</td>\n",
       "      <td>0.000000</td>\n",
       "    </tr>\n",
       "    <tr>\n",
       "      <th>1</th>\n",
       "      <td>1.916291</td>\n",
       "      <td>0.000000</td>\n",
       "      <td>1.916291</td>\n",
       "      <td>0.000000</td>\n",
       "      <td>1.916291</td>\n",
       "      <td>0.000000</td>\n",
       "      <td>0.000000</td>\n",
       "      <td>0.000000</td>\n",
       "      <td>0.000000</td>\n",
       "    </tr>\n",
       "    <tr>\n",
       "      <th>2</th>\n",
       "      <td>0.000000</td>\n",
       "      <td>0.000000</td>\n",
       "      <td>0.000000</td>\n",
       "      <td>0.000000</td>\n",
       "      <td>0.000000</td>\n",
       "      <td>1.510826</td>\n",
       "      <td>0.000000</td>\n",
       "      <td>1.510826</td>\n",
       "      <td>3.832581</td>\n",
       "    </tr>\n",
       "    <tr>\n",
       "      <th>3</th>\n",
       "      <td>0.000000</td>\n",
       "      <td>0.000000</td>\n",
       "      <td>0.000000</td>\n",
       "      <td>0.000000</td>\n",
       "      <td>0.000000</td>\n",
       "      <td>1.510826</td>\n",
       "      <td>1.916291</td>\n",
       "      <td>1.510826</td>\n",
       "      <td>0.000000</td>\n",
       "    </tr>\n",
       "  </tbody>\n",
       "</table>\n",
       "</div>"
      ],
      "text/plain": [
       "        가격이        배가        배의       부르다       비싸다       사과가       아침에  \\\n",
       "0  0.000000  1.916291  0.000000  1.916291  0.000000  0.000000  0.000000   \n",
       "1  1.916291  0.000000  1.916291  0.000000  1.916291  0.000000  0.000000   \n",
       "2  0.000000  0.000000  0.000000  0.000000  0.000000  1.510826  0.000000   \n",
       "3  0.000000  0.000000  0.000000  0.000000  0.000000  1.510826  1.916291   \n",
       "\n",
       "         좋다        진짜  \n",
       "0  0.000000  0.000000  \n",
       "1  0.000000  0.000000  \n",
       "2  1.510826  3.832581  \n",
       "3  1.510826  0.000000  "
      ]
     },
     "execution_count": 11,
     "metadata": {},
     "output_type": "execute_result"
    }
   ],
   "source": [
    "tfidf = tf*idf\n",
    "tfidf"
   ]
  },
  {
   "cell_type": "markdown",
   "id": "37ed18db",
   "metadata": {},
   "source": [
    " 해당 문서에서만 자주 등장하는 단어에 높은 가중치를 주는 방식입니다. 그렇게 함으로써 해당 단어가 실질적으로 중요한 단어인지 검사"
   ]
  },
  {
   "cell_type": "markdown",
   "id": "32838e48",
   "metadata": {},
   "source": [
    "sklearn 안에 자동으로 해주는 것 잇음"
   ]
  },
  {
   "cell_type": "code",
   "execution_count": 12,
   "id": "58264827",
   "metadata": {},
   "outputs": [],
   "source": [
    "from sklearn.feature_extraction.text import TfidfVectorizer"
   ]
  },
  {
   "cell_type": "code",
   "execution_count": 14,
   "id": "e25483d9",
   "metadata": {},
   "outputs": [],
   "source": [
    "# docs = list(all_title)\n",
    "# tfidf_vectorizer = TfidfVectorizer"
   ]
  },
  {
   "cell_type": "code",
   "execution_count": null,
   "id": "75afe242",
   "metadata": {},
   "outputs": [],
   "source": []
  }
 ],
 "metadata": {
  "kernelspec": {
   "display_name": "silcream",
   "language": "python",
   "name": "silcream"
  },
  "language_info": {
   "codemirror_mode": {
    "name": "ipython",
    "version": 3
   },
   "file_extension": ".py",
   "mimetype": "text/x-python",
   "name": "python",
   "nbconvert_exporter": "python",
   "pygments_lexer": "ipython3",
   "version": "3.7.13"
  }
 },
 "nbformat": 4,
 "nbformat_minor": 5
}
