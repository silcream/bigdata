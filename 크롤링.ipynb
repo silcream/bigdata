{
 "cells": [
  {
   "cell_type": "code",
   "execution_count": 1,
   "id": "5785228e",
   "metadata": {},
   "outputs": [],
   "source": [
    "import os\n",
    "import sys\n",
    "import urllib.request\n",
    "import urllib\n",
    "import json\n",
    "import datetime"
   ]
  },
  {
   "cell_type": "markdown",
   "id": "6134b253",
   "metadata": {},
   "source": [
    "uEVCgo4MeQ"
   ]
  },
  {
   "cell_type": "code",
   "execution_count": 2,
   "id": "c7c75407",
   "metadata": {},
   "outputs": [
    {
     "name": "stdout",
     "output_type": "stream",
     "text": [
      "https://openapi.naver.com/v1/search/news.json?query=%EC%B0%BD%EC%9B%90%EB%8C%80%ED%95%99%EA%B5%90\n"
     ]
    }
   ],
   "source": [
    "txt = urllib.parse.quote('창원대학교')\n",
    "url = 'https://openapi.naver.com/v1/search/news.json?query=' + txt\n",
    "\n",
    "print(url)"
   ]
  },
  {
   "cell_type": "code",
   "execution_count": 3,
   "id": "1c6a97b0",
   "metadata": {},
   "outputs": [],
   "source": [
    "request = urllib.request.Request(url)\n",
    "client_id = 'HoIgEQ7Sd9cx7gESumK6'\n",
    "client_secret = 'uEVCgo4MeQ'\n",
    "request.add_header('X-Naver-Client-Id', client_id) # add_heade : 개인정보 보호역할\n",
    "request.add_header('X-Naver-Client-Secret', client_secret)"
   ]
  },
  {
   "cell_type": "code",
   "execution_count": 4,
   "id": "d3e326b0",
   "metadata": {},
   "outputs": [
    {
     "name": "stdout",
     "output_type": "stream",
     "text": [
      "{\n",
      "\t\"lastBuildDate\":\"Tue, 20 Sep 2022 17:32:18 +0900\",\n",
      "\t\"total\":70867,\n",
      "\t\"start\":1,\n",
      "\t\"display\":10,\n",
      "\t\"items\":[\n",
      "\t\t{\n",
      "\t\t\t\"title\":\"경남형 로스쿨 설치하여 젊은 인재가 경남에 정착하는 마중물로...\",\n",
      "\t\t\t\"originallink\":\"http:\\/\\/www.thekpm.com\\/news\\/articleView.html?idxno=134953\",\n",
      "\t\t\t\"link\":\"http:\\/\\/www.thekpm.com\\/news\\/articleView.html?idxno=134953\",\n",
      "\t\t\t\"description\":\"및 <b>창원<\\/b>시·진주시 평생학습과 관계자, 경상국립대 법과대학 교수 및 부교수 등 30여 명이 참석했다. 이날 주제발표에는 이장희 <b>창원대<\\/b>학교 법학과 교수가 &apos;경남형 로스쿨의 필요성과 설립방향&apos;을 주제로 나섰으며 이후... \",\n",
      "\t\t\t\"pubDate\":\"Tue, 20 Sep 2022 17:10:00 +0900\"\n",
      "\t\t},\n",
      "\t\t{\n",
      "\t\t\t\"title\":\"거창군 <b>대학<\\/b>·업체와 협력 사과 활용 가공품 만든다\",\n",
      "\t\t\t\"originallink\":\"http:\\/\\/www.idomin.com\\/news\\/articleView.html?idxno=805225\",\n",
      "\t\t\t\"link\":\"http:\\/\\/www.idomin.com\\/news\\/articleView.html?idxno=805225\",\n",
      "\t\t\t\"description\":\"<b>창원<\\/b>문성<b>대학교<\\/b>는 &apos;2022년 산·학·연 협력 선도 <b>대학<\\/b>&apos;으로 선정된 곳이다. 지자체와 연계한 사업으로 거창군에서 추진하는 농산물 가공제품 개발사업에 손을 맞잡기로 했다. 거창군이 20일 군청상황실에서 <b>창원<\\/b>문성<b>대학교<\\/b>... \",\n",
      "\t\t\t\"pubDate\":\"Tue, 20 Sep 2022 17:08:00 +0900\"\n",
      "\t\t},\n",
      "\t\t{\n",
      "\t\t\t\"title\":\"경남형 법학전문<b>대학<\\/b>원의 필요성과 설립 방향 찾아\",\n",
      "\t\t\t\"originallink\":\"http:\\/\\/www.breaknews.com\\/925402\",\n",
      "\t\t\t\"link\":\"http:\\/\\/www.breaknews.com\\/925402\",\n",
      "\t\t\t\"description\":\"경상남도와 경남연구원은 ‘경남형 법학전문<b>대학<\\/b>원의 필요성과 설립 방향’을... 및 <b>창원<\\/b>시·진주시 관계자, 경상대·<b>창원대<\\/b>·영산대 관계자 등 30여명이 참석했다.... \",\n",
      "\t\t\t\"pubDate\":\"Tue, 20 Sep 2022 17:04:00 +0900\"\n",
      "\t\t},\n",
      "\t\t{\n",
      "\t\t\t\"title\":\"<b>창원<\\/b> 폴리텍대-㈜스마일랙, 업무협약 체결\",\n",
      "\t\t\t\"originallink\":\"https:\\/\\/www.gukjenews.com\\/news\\/articleView.html?idxno=2554435\",\n",
      "\t\t\t\"link\":\"https:\\/\\/www.gukjenews.com\\/news\\/articleView.html?idxno=2554435\",\n",
      "\t\t\t\"description\":\"한국폴리텍Ⅶ<b>대학<\\/b> <b>창원<\\/b>캠퍼스와 ㈜스마일랙이 20일 오전 11시 <b>대학<\\/b> 본관 2층 회의실에서 업무협약(MOU)을 맺고 있다. 한국폴리텍Ⅶ<b>대학<\\/b> <b>창원<\\/b>캠퍼스는 ㈜스마일랙과 20일 오전 11시 <b>대학<\\/b> 본관 2층 회의실에서 업무협약(MOU)을... \",\n",
      "\t\t\t\"pubDate\":\"Tue, 20 Sep 2022 17:02:00 +0900\"\n",
      "\t\t},\n",
      "\t\t{\n",
      "\t\t\t\"title\":\"이호영 <b>창원대<\\/b> 총장 &apos;경남 지역산업 맞춤형 인재양성 협업전략&apos; 주제로 특강\",\n",
      "\t\t\t\"originallink\":\"http:\\/\\/www.dizzotv.com\\/site\\/data\\/html_dir\\/2022\\/09\\/20\\/2022092081128.html\",\n",
      "\t\t\t\"link\":\"http:\\/\\/www.dizzotv.com\\/site\\/data\\/html_dir\\/2022\\/09\\/20\\/2022092081128.html\",\n",
      "\t\t\t\"description\":\"임진영 <b>창원<\\/b>국가산업단지미래경영자클럽 회장, 윤현규 <b>창원대<\\/b> LINC 3.0 사업단장을 비롯한 지역 산업체 CEO... 먼저 <b>대학<\\/b>과 손을 잡고, 기업의 미래 성장과 기업이 필요로 하는 맞춤형 인재양성을 위해 <b>대학<\\/b>과 기업이 함께... \",\n",
      "\t\t\t\"pubDate\":\"Tue, 20 Sep 2022 16:08:00 +0900\"\n",
      "\t\t},\n",
      "\t\t{\n",
      "\t\t\t\"title\":\"거창군, 지역농산물 활용 가공품 개발 위한 업무협약 체결\",\n",
      "\t\t\t\"originallink\":\"http:\\/\\/www.joongdo.co.kr\\/web\\/view.php?key=20220920010005325\",\n",
      "\t\t\t\"link\":\"http:\\/\\/www.joongdo.co.kr\\/web\\/view.php?key=20220920010005325\",\n",
      "\t\t\t\"description\":\"<b>창원<\\/b>시에 소재한 <b>창원<\\/b>문성<b>대학교<\\/b>는 2022년 산·학·연 협력 선도 <b>대학<\\/b>으로 선정됐다. 문성<b>대학교<\\/b>는 지자체와 연계한 사업으로 이번 거창군에서 추진하는 농산물 가공제품 개발과 협력을 추진하게 됐다. 주요 내용은... \",\n",
      "\t\t\t\"pubDate\":\"Tue, 20 Sep 2022 16:02:00 +0900\"\n",
      "\t\t},\n",
      "\t\t{\n",
      "\t\t\t\"title\":\"<b>창원대<\\/b> 이호영 총장, &apos;경남지역 CEO혁신경영 아카데미&apos; 특강\",\n",
      "\t\t\t\"originallink\":\"https:\\/\\/www.cnbnews.com\\/news\\/article.html?no=565083\",\n",
      "\t\t\t\"link\":\"https:\\/\\/www.cnbnews.com\\/news\\/article.html?no=565083\",\n",
      "\t\t\t\"description\":\"임진영 <b>창원<\\/b>국가산업단지미래경영자클럽 회장, 윤현규 <b>창원대<\\/b> LINC 3.0 사업단장을 비롯한 지역 산업체 CEO... 먼저 <b>대학<\\/b>과 손을 잡고, 기업의 미래 성장과 기업이 필요로 하는 맞춤형 인재양성을 위해 <b>대학<\\/b>과 기업이... \",\n",
      "\t\t\t\"pubDate\":\"Tue, 20 Sep 2022 15:58:00 +0900\"\n",
      "\t\t},\n",
      "\t\t{\n",
      "\t\t\t\"title\":\"경남형 로스쿨, 산업법 전문 법조인 양성 제안\",\n",
      "\t\t\t\"originallink\":\"http:\\/\\/www.newsfreezone.co.kr\\/news\\/articleView.html?idxno=409970\",\n",
      "\t\t\t\"link\":\"http:\\/\\/www.newsfreezone.co.kr\\/news\\/articleView.html?idxno=409970\",\n",
      "\t\t\t\"description\":\"경남도와 <b>창원<\\/b>시·진주시 평생학습과 관계자, 경상국립대 법과대학 교수 및 부교수 등 30여 명이 참석했다. 오종수 경남도 교육담당관은 &quot;경남도에서는 경남형 법학전문<b>대학<\\/b>원의 실현 가능성과 발전방안에 대한 논의를... \",\n",
      "\t\t\t\"pubDate\":\"Tue, 20 Sep 2022 15:46:00 +0900\"\n",
      "\t\t},\n",
      "\t\t{\n",
      "\t\t\t\"title\":\"거창군, <b>창원<\\/b>문성대와 사과 원료 빵·과자 개발한다\",\n",
      "\t\t\t\"originallink\":\"https:\\/\\/www.yna.co.kr\\/view\\/AKR20220920108000052?input=1195m\",\n",
      "\t\t\t\"link\":\"https:\\/\\/n.news.naver.com\\/mnews\\/article\\/001\\/0013450336?sid=102\",\n",
      "\t\t\t\"description\":\"<b>창원<\\/b>문성<b>대학교<\\/b>는 2022년 산·학·연 협력선도 <b>대학<\\/b>으로 선정됐으며, 지자체와 연계한 사업으로 거창군에서 추진하는 농산물 가공제품 개발과 협력을 추진하게 됐다. 주요 내용은 <b>창원<\\/b>문성<b>대학교<\\/b> 제빵학부가 사과를 원료로... \",\n",
      "\t\t\t\"pubDate\":\"Tue, 20 Sep 2022 15:21:00 +0900\"\n",
      "\t\t},\n",
      "\t\t{\n",
      "\t\t\t\"title\":\"이호영 <b>창원대<\\/b> 총장 &quot;인재양성 기업인식 바껴야&quot;\",\n",
      "\t\t\t\"originallink\":\"http:\\/\\/www.newsfreezone.co.kr\\/news\\/articleView.html?idxno=409934\",\n",
      "\t\t\t\"link\":\"http:\\/\\/www.newsfreezone.co.kr\\/news\\/articleView.html?idxno=409934\",\n",
      "\t\t\t\"description\":\"양재부 <b>창원<\\/b>국가산단경영자협의회장, 강성윤 경상남도 경제진흥원장, 윤현규 <b>창원대<\\/b> LINC 3.0 사업단장을... 이를 위해 기업에서 먼저 <b>대학<\\/b>과 손을 잡고 맞춤형 인재양성을 위해 함께 투자해 나가야 한다&quot;고 강조했다.\",\n",
      "\t\t\t\"pubDate\":\"Tue, 20 Sep 2022 15:04:00 +0900\"\n",
      "\t\t}\n",
      "\t]\n",
      "}\n"
     ]
    }
   ],
   "source": [
    "response = urllib.request.urlopen(request)\n",
    "rescode = response.getcode()\n",
    "if(rescode == 200):\n",
    "    response_body = response.read()\n",
    "    print(response_body.decode('utf-8'))\n",
    "else:\n",
    "    print('Error Code:' + rescode)"
   ]
  },
  {
   "cell_type": "code",
   "execution_count": 5,
   "id": "0289424a",
   "metadata": {},
   "outputs": [
    {
     "data": {
      "text/plain": [
       "<http.client.HTTPResponse at 0x24a9efbe408>"
      ]
     },
     "execution_count": 5,
     "metadata": {},
     "output_type": "execute_result"
    }
   ],
   "source": [
    "response"
   ]
  },
  {
   "cell_type": "code",
   "execution_count": 9,
   "id": "f4be0467",
   "metadata": {},
   "outputs": [],
   "source": [
    "def getNaverSearch(node, srcText, page_start, display):\n",
    "    base = 'https://openapi.naver.com/v1/search'\n",
    "    node = '/%s.json'% node\n",
    "    parameters = '?query=%s&start=%s&display=%s'%(urllib.parse.quote(srcText), page_start, display)\n",
    "    url = base + node + parameters\n",
    "    \n",
    "    client_id = 'HoIgEQ7Sd9cx7gESumK6'\n",
    "    client_secret = 'uEVCgo4MeQ'\n",
    "    request = urllib.request.Request(url)\n",
    "    request.add_header('X-Naver-Client-Id', client_id) # add_heade : 개인정보 보호역할\n",
    "    request.add_header('X-Naver-Client-Secret', client_secret)\n",
    "    response = urllib.request.urlopen(request)\n",
    "    rescode = response.getcode()\n",
    "    \n",
    "    if(rescode == 200):\n",
    "        response_body = response.read()\n",
    "        return json.loads(response_body.decode('utf-8'))\n",
    "    else:\n",
    "        print('Error Code:' + rescode)\n",
    "        return None"
   ]
  },
  {
   "cell_type": "code",
   "execution_count": 10,
   "id": "8804eb4c",
   "metadata": {},
   "outputs": [
    {
     "name": "stdout",
     "output_type": "stream",
     "text": [
      "403648\n"
     ]
    }
   ],
   "source": [
    "node = 'news'\n",
    "srcText = '고양이'\n",
    "cnt = 0\n",
    "jsonResult = []\n",
    "jsonResponse = getNaverSearch(node, srcText, 1, 10)\n",
    "total = jsonResponse['total']\n",
    "print(total)"
   ]
  },
  {
   "cell_type": "code",
   "execution_count": 11,
   "id": "77c4897b",
   "metadata": {},
   "outputs": [
    {
     "data": {
      "text/plain": [
       "{'lastBuildDate': 'Tue, 20 Sep 2022 17:35:04 +0900',\n",
       " 'total': 403648,\n",
       " 'start': 1,\n",
       " 'display': 10,\n",
       " 'items': [{'title': '길<b>고양이</b> 살해하고 소셜미디어에 사진 올린 20대 실형',\n",
       "   'originallink': 'https://www.chosun.com/national/incident/2022/09/20/HFUNBQU67BG2LJJOKBHRJOEYRI/?utm_source=naver&utm_medium=referral&utm_campaign=naver-news',\n",
       "   'link': 'https://n.news.naver.com/mnews/article/023/0003717076?sid=102',\n",
       "   'description': '길<b>고양이</b>를 죽음에 이르게 하고 신고자를 협박한 20대 남성에게 실형이 선고됐다. 대구지법 포항지원 형사... A씨는 지난 1월부터 3월까지 경북 포항에서 길<b>고양이</b> 16마리를 잡아 운영이 중단된 양식장에 가둔 뒤 흉기로... ',\n",
       "   'pubDate': 'Tue, 20 Sep 2022 17:22:00 +0900'},\n",
       "  {'title': '&apos;돌아온&apos; 청남대 재즈토닉 페스티벌',\n",
       "   'originallink': 'https://www.inews365.com/news/article.html?no=732071',\n",
       "   'link': 'https://www.inews365.com/news/article.html?no=732071',\n",
       "   'description': '2000년 시대에 대한 반항 정신을 담은 첫 번째 페르소나인 도깨비 소년 &apos;사쿤&apos;(Sakun)에 이어 2013년 관계에 대한 고민에서 시작한 두 번째 페르소나인 왕의 <b>고양이</b> &apos;쿤캣&apos;(KunCat)을 탄생시킨 인물이다. 티켓은 1일권... ',\n",
       "   'pubDate': 'Tue, 20 Sep 2022 17:22:00 +0900'},\n",
       "  {'title': '나나 카메오 출격, ‘월수금화목토’ 톱배우 유미 역..강렬한 임팩트 예고',\n",
       "   'originallink': 'http://www.breaknews.com/925422',\n",
       "   'link': 'http://www.breaknews.com/925422',\n",
       "   'description': '일명 <b>고양이</b>상 배, ‘유미’ 역으로 등장해 강렬한 임팩트를 선사할 예정. 이와... 상대인 <b>고양이</b>상 배우와 비주얼부터 찰떡 싱크로율을 자랑, 짧은 출연에도 강렬한... ',\n",
       "   'pubDate': 'Tue, 20 Sep 2022 17:12:00 +0900'},\n",
       "  {'title': '길<b>고양이</b> 16마리 가두고 학대·살해한 20대…징역 1년 4개월',\n",
       "   'originallink': 'http://www.busan.com/view/busan/view.php?code=2022092016481021783',\n",
       "   'link': 'https://n.news.naver.com/mnews/article/082/0001175154?sid=102',\n",
       "   'description': '길<b>고양이</b>를 학대하고 신고자를 협박한 혐의로 재판에 넘겨진 20대에게 실형이 선고됐다. 20일 연합뉴스 등에... A 씨는 올해 1월부터 3월까지 포항에서 길<b>고양이</b> 16마리를 잡아 폐양어장에 가두고 학대하거나 죽인 혐의로... ',\n",
       "   'pubDate': 'Tue, 20 Sep 2022 17:12:00 +0900'},\n",
       "  {'title': '길<b>고양이</b> 16마리 학대하고 신고자 협박한 20대에 징역 1년4개월',\n",
       "   'originallink': 'https://www.khan.co.kr/national/court-law/article/202209201709011',\n",
       "   'link': 'https://n.news.naver.com/mnews/article/032/0003174202?sid=102',\n",
       "   'description': '대구지법 포항지원 제1형사부(재판장 권순향)는 20일 폐양식장에서 길<b>고양이</b>들을 학대하거나 죽이고 자신의... 피고인 A씨는 지난 1~3월 포항지역에서 길<b>고양이</b> 16마리를 잡아 폐양어장에 가두고 학대하거나 죽인 혐의로... ',\n",
       "   'pubDate': 'Tue, 20 Sep 2022 17:10:00 +0900'},\n",
       "  {'title': '길<b>고양이</b> 16마리 학대하고 신고자 협박한 20대, 징역 1년 4개월',\n",
       "   'originallink': 'http://www.newstomato.com/ReadNews.aspx?no=1148294&inflow=N',\n",
       "   'link': 'http://www.newstomato.com/ReadNews.aspx?no=1148294&inflow=N',\n",
       "   'description': '뉴스토마토 = 박재연 기자 | 24일 대구지법 포항지원 앞에서 동물보호단체 &apos;동물권행동 카라&apos; 회원들이 <b>고양이</b> 살해 혐의로 기소된 피고인의 강력 처벌을 촉구하는 기자회견을 하고 있다. 2022.8.24 폐양어장에서 길<b>고양이</b>... ',\n",
       "   'pubDate': 'Tue, 20 Sep 2022 17:04:00 +0900'},\n",
       "  {'title': '길냥이 16마리 폐양식장 가둔 뒤 학대하고 죽인 20대…징역 1년4개월',\n",
       "   'originallink': 'http://news.mt.co.kr/mtview.php?no=2022092016402631442',\n",
       "   'link': 'https://n.news.naver.com/mnews/article/008/0004796754?sid=102',\n",
       "   'description': '경북 포항의 한 폐양식장에서 길<b>고양이</b>들을 학대하고 죽인 20대 남성이 실형을 선고받았다. 대구지법... A씨는 지난 1월부터 3월까지 포획 틀을 이용해 잡은 길<b>고양이</b> 16마리를 포항시 남구 호미곶면의 한 폐양식장에... ',\n",
       "   'pubDate': 'Tue, 20 Sep 2022 17:00:00 +0900'},\n",
       "  {'title': '길<b>고양이</b> 16마리 학대하고 신고자 협박…20대 징역 1년 4개월',\n",
       "   'originallink': 'http://www.kbsm.net/news/view.php?idx=364365',\n",
       "   'link': 'http://www.kbsm.net/news/view.php?idx=364365',\n",
       "   'description': '길<b>고양이</b>를 학대하고 신고자를 협박한 20대에게 실형이 선고됐다.대구지법 포항지원 제1형사부(부장판사... A씨는 올해 1월부터 3월까지 포항에서 길<b>고양이</b> 16마리를 잡아 폐양어장에 가두고 학대하거나 죽인 혐의로... ',\n",
       "   'pubDate': 'Tue, 20 Sep 2022 17:00:00 +0900'},\n",
       "  {'title': '“네오위즈, ‘P의 거짓’ 200만장 판매 달성 시 내년 영업이익 1000억원 이상...',\n",
       "   'originallink': 'https://www.news2day.co.kr/article/20220920500277',\n",
       "   'link': 'https://www.news2day.co.kr/article/20220920500277',\n",
       "   'description': '판단된다”며 “<b>고양이</b>와 스프 역시 7월 업데이트 이후 매출 반등을 확인했고, 웹보드 게임과 <b>고양이</b>와스프 모두 8월까지 매출이 지속적으로 증가한 것으로 파악했다”고 밝혔다. 이지은 연구원은 “네오위즈가 지분... ',\n",
       "   'pubDate': 'Tue, 20 Sep 2022 16:56:00 +0900'},\n",
       "  {'title': '길<b>고양이</b> 유인해 16마리 학대, 신고자까지 협박…20대男 최후',\n",
       "   'originallink': 'https://www.joongang.co.kr/article/25103066',\n",
       "   'link': 'https://n.news.naver.com/mnews/article/025/0003225006?sid=102',\n",
       "   'description': '폐양식장에서 길<b>고양이</b>들을 학대하고, 신고자를 협박한 20대가 실형을 선고받았다. 대구지법 포항지원... A씨는 올해 1월부터 3월까지 포항에서 길<b>고양이</b> 16마리를 잡아 폐양어장에 가두고 학대하거나 죽인 혐의로 재판에... ',\n",
       "   'pubDate': 'Tue, 20 Sep 2022 16:55:00 +0900'}]}"
      ]
     },
     "execution_count": 11,
     "metadata": {},
     "output_type": "execute_result"
    }
   ],
   "source": [
    "jsonResponse"
   ]
  },
  {
   "cell_type": "code",
   "execution_count": null,
   "id": "52c98115",
   "metadata": {},
   "outputs": [],
   "source": []
  }
 ],
 "metadata": {
  "kernelspec": {
   "display_name": "silcream",
   "language": "python",
   "name": "silcream"
  },
  "language_info": {
   "codemirror_mode": {
    "name": "ipython",
    "version": 3
   },
   "file_extension": ".py",
   "mimetype": "text/x-python",
   "name": "python",
   "nbconvert_exporter": "python",
   "pygments_lexer": "ipython3",
   "version": "3.7.13"
  }
 },
 "nbformat": 4,
 "nbformat_minor": 5
}
