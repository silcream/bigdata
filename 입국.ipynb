{
 "cells": [
  {
   "cell_type": "code",
   "execution_count": 1,
   "id": "cb575aed",
   "metadata": {
    "scrolled": true
   },
   "outputs": [],
   "source": [
    "import requests\n",
    "import xmltodict\n",
    "import json\n",
    "import pandas as pd\n",
    "\n",
    "#url = 'http://openapi.tour.go.kr/openapi/service/EdrcntTourismStatsService/getEdrcntTourismStatsList'\n",
    "#params ={'serviceKey' : '서비스키', 'YM' : '201201', 'NAT_CD' : '112', 'ED_CD' : 'D' }\n",
    "serviceKey = 'n3K3usJdyUZFiPUsWvKo78F/Us9U9frYjiNBWtgC39z5qHHiZHWxq+4SuUg3rzOC7D6lePv0TgPmfv++C5tgzw=='\n",
    "#response = requests.get(url, params=params)\n",
    "#print(response.content)"
   ]
  },
  {
   "cell_type": "code",
   "execution_count": 2,
   "id": "6b71fb58",
   "metadata": {},
   "outputs": [],
   "source": [
    "def getTourismStateService(natCd, sexCd, ageCd, traPurpCd, portCd) :\n",
    "    jsonResult = []\n",
    "    result = []\n",
    "    \n",
    "    url = 'http://openapi.tour.go.kr/openapi/service/EdrcntTourismStatsService/getForeignTuristStatsList'\n",
    "    params = {'serviceKey' : serviceKey, 'YM' : '', 'NAT_CD': natCd, 'SEX_CD'  :  sexCd, 'AGE_CD' :  ageCd, 'TRA_PURP_CD':traPurpCd, 'PORT_CD' :portCd}\n",
    "    \n",
    "    monthlist = [1, 2, 3, 7]\n",
    "    year = 2022\n",
    "    \n",
    "    for month in monthlist :\n",
    "        yyyymm = \"{0}{1:0>2}\".format(str(year), str(month))\n",
    "        try :\n",
    "            params['YM'] = yyyymm\n",
    "            print(params)\n",
    "            response = requests.get(url,params = params)\n",
    "            repResult = xmltodict.parse(response.content)\n",
    "            print(repResult['response'])\n",
    "            if(repResult['response']['body']['items'] == None) :\n",
    "                print(f\"데이터 없음. {year}년 {month}월\")\n",
    "                break\n",
    "\n",
    "            natCd = repResult['response']['body']['items']['item']['natCd']\n",
    "            ageCd = repResult['response']['body']['items']['item']['ageCd']\n",
    "            portCd = repResult['response']['body']['items']['item']['portCd']\n",
    "            traPurpCd = repResult['response']['body']['items']['item']['traPurpCd']\n",
    "            sexCd = repResult['response']['body']['items']['item']['sexCd']\n",
    "                \n",
    "            print(f\"{ageCd}{portCd}{traPurpCd}{sexCd}\")\n",
    "                \n",
    "            jsonResult.append({'yyyymm' : yyyymm,'NAT_CD'  :  natCd,'SEX_CD'  :  sexCd, 'AGE_CD' :  ageCd, 'TRA_PURP_CD':traPurpCd, 'PORT_CD':portCd})\n",
    "            result.append([yyyymm])\n",
    "                \n",
    "        except Exception as e :\n",
    "            print(e)\n",
    "                \n",
    "\n",
    "    return jsonResult, result, natCd, sexCd, ageCd, traPurpCd, portCd\n",
    "   \n",
    " "
   ]
  },
  {
   "cell_type": "code",
   "execution_count": 3,
   "id": "c622de67",
   "metadata": {},
   "outputs": [
    {
     "name": "stdout",
     "output_type": "stream",
     "text": [
      "<<국내 입국한 외국인 통계 수집\n",
      "{'serviceKey': 'n3K3usJdyUZFiPUsWvKo78F/Us9U9frYjiNBWtgC39z5qHHiZHWxq+4SuUg3rzOC7D6lePv0TgPmfv++C5tgzw==', 'YM': '202201', 'NAT_CD': 112, 'SEX_CD': 'F', 'AGE_CD': 30, 'TRA_PURP_CD': '02', 'PORT_CD': 'IA'}\n",
      "{'header': {'resultCode': '0000', 'resultMsg': 'OK'}, 'body': {'items': {'item': {'age': '21 - 30', 'ageCd': '30', 'natCd': '112', 'natKorNm': '중  국', 'num': '26', 'port': '인천공항', 'portCd': 'IA', 'rnum': '1', 'sex': '여성', 'sexCd': 'F', 'traPurp': '관광', 'traPurpCd': '02', 'ym': '202201'}}, 'numOfRows': '10', 'pageNo': '1', 'totalCount': '1'}}\n",
      "30IA02F\n",
      "{'serviceKey': 'n3K3usJdyUZFiPUsWvKo78F/Us9U9frYjiNBWtgC39z5qHHiZHWxq+4SuUg3rzOC7D6lePv0TgPmfv++C5tgzw==', 'YM': '202202', 'NAT_CD': 112, 'SEX_CD': 'F', 'AGE_CD': 30, 'TRA_PURP_CD': '02', 'PORT_CD': 'IA'}\n",
      "{'header': {'resultCode': '0000', 'resultMsg': 'OK'}, 'body': {'items': {'item': {'age': '21 - 30', 'ageCd': '30', 'natCd': '112', 'natKorNm': '중  국', 'num': '22', 'port': '인천공항', 'portCd': 'IA', 'rnum': '1', 'sex': '여성', 'sexCd': 'F', 'traPurp': '관광', 'traPurpCd': '02', 'ym': '202202'}}, 'numOfRows': '10', 'pageNo': '1', 'totalCount': '1'}}\n",
      "30IA02F\n",
      "{'serviceKey': 'n3K3usJdyUZFiPUsWvKo78F/Us9U9frYjiNBWtgC39z5qHHiZHWxq+4SuUg3rzOC7D6lePv0TgPmfv++C5tgzw==', 'YM': '202203', 'NAT_CD': 112, 'SEX_CD': 'F', 'AGE_CD': 30, 'TRA_PURP_CD': '02', 'PORT_CD': 'IA'}\n",
      "{'header': {'resultCode': '0000', 'resultMsg': 'OK'}, 'body': {'items': {'item': {'age': '21 - 30', 'ageCd': '30', 'natCd': '112', 'natKorNm': '중  국', 'num': '27', 'port': '인천공항', 'portCd': 'IA', 'rnum': '1', 'sex': '여성', 'sexCd': 'F', 'traPurp': '관광', 'traPurpCd': '02', 'ym': '202203'}}, 'numOfRows': '10', 'pageNo': '1', 'totalCount': '1'}}\n",
      "30IA02F\n",
      "{'serviceKey': 'n3K3usJdyUZFiPUsWvKo78F/Us9U9frYjiNBWtgC39z5qHHiZHWxq+4SuUg3rzOC7D6lePv0TgPmfv++C5tgzw==', 'YM': '202207', 'NAT_CD': 112, 'SEX_CD': 'F', 'AGE_CD': 30, 'TRA_PURP_CD': '02', 'PORT_CD': 'IA'}\n",
      "{'header': {'resultCode': '0000', 'resultMsg': 'OK'}, 'body': {'items': {'item': {'age': '21 - 30', 'ageCd': '30', 'natCd': '112', 'natKorNm': '중  국', 'num': '535', 'port': '인천공항', 'portCd': 'IA', 'rnum': '1', 'sex': '여성', 'sexCd': 'F', 'traPurp': '관광', 'traPurpCd': '02', 'ym': '202207'}}, 'numOfRows': '10', 'pageNo': '1', 'totalCount': '1'}}\n",
      "30IA02F\n",
      "[['202201'], ['202202'], ['202203'], ['202207']]\n"
     ]
    }
   ],
   "source": [
    "print(\"<<국내 입국한 외국인 통계 수집\")\n",
    "\n",
    "natCd = 112\n",
    "sexCd = 'F'\n",
    "ageCd = 30\n",
    "traPurpCd = '02'\n",
    "portCd = 'IA'\n",
    "\n",
    "ed_cd = \"E\" #E : 방한외래관광객, D : 해외 출국\n",
    "\n",
    "jsonResult, result, natCd, sexCd, ageCd, traPurpCd, portCd = getTourismStateService(natCd, sexCd, ageCd, traPurpCd, portCd)\n",
    "print(result)\n",
    "\n",
    "with open(\"%s_%s_%s_%s.json\" % (sexCd, ageCd, traPurpCd, portCd),'w',encoding='utf8') as outfile :\n",
    "    jsonFile = json.dumps(jsonResult, indent = 4, ensure_ascii = False)\n",
    "    outfile.write(jsonFile)\n",
    "\n",
    "\n",
    "\n",
    "    \n",
    "    \n"
   ]
  },
  {
   "cell_type": "code",
   "execution_count": 4,
   "id": "24faea5b",
   "metadata": {},
   "outputs": [
    {
     "ename": "ValueError",
     "evalue": "6 columns passed, passed data had 1 columns",
     "output_type": "error",
     "traceback": [
      "\u001b[1;31m---------------------------------------------------------------------------\u001b[0m",
      "\u001b[1;31mAssertionError\u001b[0m                            Traceback (most recent call last)",
      "\u001b[1;32m~\\anaconda3\\envs\\silcream\\lib\\site-packages\\pandas\\core\\internals\\construction.py\u001b[0m in \u001b[0;36m_finalize_columns_and_data\u001b[1;34m(content, columns, dtype)\u001b[0m\n\u001b[0;32m    905\u001b[0m     \u001b[1;32mtry\u001b[0m\u001b[1;33m:\u001b[0m\u001b[1;33m\u001b[0m\u001b[1;33m\u001b[0m\u001b[0m\n\u001b[1;32m--> 906\u001b[1;33m         \u001b[0mcolumns\u001b[0m \u001b[1;33m=\u001b[0m \u001b[0m_validate_or_indexify_columns\u001b[0m\u001b[1;33m(\u001b[0m\u001b[0mcontents\u001b[0m\u001b[1;33m,\u001b[0m \u001b[0mcolumns\u001b[0m\u001b[1;33m)\u001b[0m\u001b[1;33m\u001b[0m\u001b[1;33m\u001b[0m\u001b[0m\n\u001b[0m\u001b[0;32m    907\u001b[0m     \u001b[1;32mexcept\u001b[0m \u001b[0mAssertionError\u001b[0m \u001b[1;32mas\u001b[0m \u001b[0merr\u001b[0m\u001b[1;33m:\u001b[0m\u001b[1;33m\u001b[0m\u001b[1;33m\u001b[0m\u001b[0m\n",
      "\u001b[1;32m~\\anaconda3\\envs\\silcream\\lib\\site-packages\\pandas\\core\\internals\\construction.py\u001b[0m in \u001b[0;36m_validate_or_indexify_columns\u001b[1;34m(content, columns)\u001b[0m\n\u001b[0;32m    954\u001b[0m             raise AssertionError(\n\u001b[1;32m--> 955\u001b[1;33m                 \u001b[1;34mf\"{len(columns)} columns passed, passed data had \"\u001b[0m\u001b[1;33m\u001b[0m\u001b[1;33m\u001b[0m\u001b[0m\n\u001b[0m\u001b[0;32m    956\u001b[0m                 \u001b[1;34mf\"{len(content)} columns\"\u001b[0m\u001b[1;33m\u001b[0m\u001b[1;33m\u001b[0m\u001b[0m\n",
      "\u001b[1;31mAssertionError\u001b[0m: 6 columns passed, passed data had 1 columns",
      "\nThe above exception was the direct cause of the following exception:\n",
      "\u001b[1;31mValueError\u001b[0m                                Traceback (most recent call last)",
      "\u001b[1;32m~\\AppData\\Local\\Temp\\ipykernel_66460\\3975154703.py\u001b[0m in \u001b[0;36m<module>\u001b[1;34m\u001b[0m\n\u001b[0;32m      1\u001b[0m \u001b[0mcolumns\u001b[0m \u001b[1;33m=\u001b[0m \u001b[1;33m[\u001b[0m\u001b[1;34m'입국국가'\u001b[0m\u001b[1;33m,\u001b[0m \u001b[1;34m'입국연월'\u001b[0m\u001b[1;33m,\u001b[0m \u001b[1;34m'성별'\u001b[0m\u001b[1;33m,\u001b[0m \u001b[1;34m'연령대'\u001b[0m\u001b[1;33m,\u001b[0m \u001b[1;34m'목적'\u001b[0m\u001b[1;33m,\u001b[0m \u001b[1;34m'입국'\u001b[0m\u001b[1;33m]\u001b[0m\u001b[1;33m\u001b[0m\u001b[1;33m\u001b[0m\u001b[0m\n\u001b[1;32m----> 2\u001b[1;33m \u001b[0mresult_df\u001b[0m \u001b[1;33m=\u001b[0m \u001b[0mpd\u001b[0m\u001b[1;33m.\u001b[0m\u001b[0mDataFrame\u001b[0m\u001b[1;33m(\u001b[0m\u001b[0mresult\u001b[0m\u001b[1;33m,\u001b[0m \u001b[0mcolumns\u001b[0m\u001b[1;33m=\u001b[0m\u001b[0mcolumns\u001b[0m\u001b[1;33m)\u001b[0m\u001b[1;33m\u001b[0m\u001b[1;33m\u001b[0m\u001b[0m\n\u001b[0m\u001b[0;32m      3\u001b[0m \u001b[0mresult_df\u001b[0m\u001b[1;33m\u001b[0m\u001b[1;33m\u001b[0m\u001b[0m\n\u001b[0;32m      4\u001b[0m \u001b[1;33m\u001b[0m\u001b[0m\n\u001b[0;32m      5\u001b[0m \u001b[0mresult_df\u001b[0m\u001b[1;33m.\u001b[0m\u001b[0mto_csv\u001b[0m\u001b[1;33m(\u001b[0m\u001b[1;34m'%s_%s_%d_%d.csv'\u001b[0m \u001b[1;33m%\u001b[0m \u001b[1;33m(\u001b[0m\u001b[0msexCd\u001b[0m\u001b[1;33m,\u001b[0m \u001b[0mageCd\u001b[0m\u001b[1;33m,\u001b[0m \u001b[0mnStartYear\u001b[0m\u001b[1;33m,\u001b[0m \u001b[0mnEndYear\u001b[0m\u001b[1;33m)\u001b[0m\u001b[1;33m,\u001b[0m \u001b[0mindex\u001b[0m \u001b[1;33m=\u001b[0m \u001b[1;32mFalse\u001b[0m\u001b[1;33m)\u001b[0m\u001b[1;33m\u001b[0m\u001b[1;33m\u001b[0m\u001b[0m\n",
      "\u001b[1;32m~\\anaconda3\\envs\\silcream\\lib\\site-packages\\pandas\\core\\frame.py\u001b[0m in \u001b[0;36m__init__\u001b[1;34m(self, data, index, columns, dtype, copy)\u001b[0m\n\u001b[0;32m    698\u001b[0m                         \u001b[0mcolumns\u001b[0m\u001b[1;33m,\u001b[0m\u001b[1;33m\u001b[0m\u001b[1;33m\u001b[0m\u001b[0m\n\u001b[0;32m    699\u001b[0m                         \u001b[0mindex\u001b[0m\u001b[1;33m,\u001b[0m  \u001b[1;31m# type: ignore[arg-type]\u001b[0m\u001b[1;33m\u001b[0m\u001b[1;33m\u001b[0m\u001b[0m\n\u001b[1;32m--> 700\u001b[1;33m                         \u001b[0mdtype\u001b[0m\u001b[1;33m,\u001b[0m\u001b[1;33m\u001b[0m\u001b[1;33m\u001b[0m\u001b[0m\n\u001b[0m\u001b[0;32m    701\u001b[0m                     )\n\u001b[0;32m    702\u001b[0m                     mgr = arrays_to_mgr(\n",
      "\u001b[1;32m~\\anaconda3\\envs\\silcream\\lib\\site-packages\\pandas\\core\\internals\\construction.py\u001b[0m in \u001b[0;36mnested_data_to_arrays\u001b[1;34m(data, columns, index, dtype)\u001b[0m\n\u001b[0;32m    481\u001b[0m         \u001b[0mcolumns\u001b[0m \u001b[1;33m=\u001b[0m \u001b[0mensure_index\u001b[0m\u001b[1;33m(\u001b[0m\u001b[0mdata\u001b[0m\u001b[1;33m[\u001b[0m\u001b[1;36m0\u001b[0m\u001b[1;33m]\u001b[0m\u001b[1;33m.\u001b[0m\u001b[0m_fields\u001b[0m\u001b[1;33m)\u001b[0m\u001b[1;33m\u001b[0m\u001b[1;33m\u001b[0m\u001b[0m\n\u001b[0;32m    482\u001b[0m \u001b[1;33m\u001b[0m\u001b[0m\n\u001b[1;32m--> 483\u001b[1;33m     \u001b[0marrays\u001b[0m\u001b[1;33m,\u001b[0m \u001b[0mcolumns\u001b[0m \u001b[1;33m=\u001b[0m \u001b[0mto_arrays\u001b[0m\u001b[1;33m(\u001b[0m\u001b[0mdata\u001b[0m\u001b[1;33m,\u001b[0m \u001b[0mcolumns\u001b[0m\u001b[1;33m,\u001b[0m \u001b[0mdtype\u001b[0m\u001b[1;33m=\u001b[0m\u001b[0mdtype\u001b[0m\u001b[1;33m)\u001b[0m\u001b[1;33m\u001b[0m\u001b[1;33m\u001b[0m\u001b[0m\n\u001b[0m\u001b[0;32m    484\u001b[0m     \u001b[0mcolumns\u001b[0m \u001b[1;33m=\u001b[0m \u001b[0mensure_index\u001b[0m\u001b[1;33m(\u001b[0m\u001b[0mcolumns\u001b[0m\u001b[1;33m)\u001b[0m\u001b[1;33m\u001b[0m\u001b[1;33m\u001b[0m\u001b[0m\n\u001b[0;32m    485\u001b[0m \u001b[1;33m\u001b[0m\u001b[0m\n",
      "\u001b[1;32m~\\anaconda3\\envs\\silcream\\lib\\site-packages\\pandas\\core\\internals\\construction.py\u001b[0m in \u001b[0;36mto_arrays\u001b[1;34m(data, columns, dtype)\u001b[0m\n\u001b[0;32m    805\u001b[0m         \u001b[0marr\u001b[0m \u001b[1;33m=\u001b[0m \u001b[0m_list_to_arrays\u001b[0m\u001b[1;33m(\u001b[0m\u001b[0mdata\u001b[0m\u001b[1;33m)\u001b[0m\u001b[1;33m\u001b[0m\u001b[1;33m\u001b[0m\u001b[0m\n\u001b[0;32m    806\u001b[0m \u001b[1;33m\u001b[0m\u001b[0m\n\u001b[1;32m--> 807\u001b[1;33m     \u001b[0mcontent\u001b[0m\u001b[1;33m,\u001b[0m \u001b[0mcolumns\u001b[0m \u001b[1;33m=\u001b[0m \u001b[0m_finalize_columns_and_data\u001b[0m\u001b[1;33m(\u001b[0m\u001b[0marr\u001b[0m\u001b[1;33m,\u001b[0m \u001b[0mcolumns\u001b[0m\u001b[1;33m,\u001b[0m \u001b[0mdtype\u001b[0m\u001b[1;33m)\u001b[0m\u001b[1;33m\u001b[0m\u001b[1;33m\u001b[0m\u001b[0m\n\u001b[0m\u001b[0;32m    808\u001b[0m     \u001b[1;32mreturn\u001b[0m \u001b[0mcontent\u001b[0m\u001b[1;33m,\u001b[0m \u001b[0mcolumns\u001b[0m\u001b[1;33m\u001b[0m\u001b[1;33m\u001b[0m\u001b[0m\n\u001b[0;32m    809\u001b[0m \u001b[1;33m\u001b[0m\u001b[0m\n",
      "\u001b[1;32m~\\anaconda3\\envs\\silcream\\lib\\site-packages\\pandas\\core\\internals\\construction.py\u001b[0m in \u001b[0;36m_finalize_columns_and_data\u001b[1;34m(content, columns, dtype)\u001b[0m\n\u001b[0;32m    907\u001b[0m     \u001b[1;32mexcept\u001b[0m \u001b[0mAssertionError\u001b[0m \u001b[1;32mas\u001b[0m \u001b[0merr\u001b[0m\u001b[1;33m:\u001b[0m\u001b[1;33m\u001b[0m\u001b[1;33m\u001b[0m\u001b[0m\n\u001b[0;32m    908\u001b[0m         \u001b[1;31m# GH#26429 do not raise user-facing AssertionError\u001b[0m\u001b[1;33m\u001b[0m\u001b[1;33m\u001b[0m\u001b[1;33m\u001b[0m\u001b[0m\n\u001b[1;32m--> 909\u001b[1;33m         \u001b[1;32mraise\u001b[0m \u001b[0mValueError\u001b[0m\u001b[1;33m(\u001b[0m\u001b[0merr\u001b[0m\u001b[1;33m)\u001b[0m \u001b[1;32mfrom\u001b[0m \u001b[0merr\u001b[0m\u001b[1;33m\u001b[0m\u001b[1;33m\u001b[0m\u001b[0m\n\u001b[0m\u001b[0;32m    910\u001b[0m \u001b[1;33m\u001b[0m\u001b[0m\n\u001b[0;32m    911\u001b[0m     \u001b[1;32mif\u001b[0m \u001b[0mlen\u001b[0m\u001b[1;33m(\u001b[0m\u001b[0mcontents\u001b[0m\u001b[1;33m)\u001b[0m \u001b[1;32mand\u001b[0m \u001b[0mcontents\u001b[0m\u001b[1;33m[\u001b[0m\u001b[1;36m0\u001b[0m\u001b[1;33m]\u001b[0m\u001b[1;33m.\u001b[0m\u001b[0mdtype\u001b[0m \u001b[1;33m==\u001b[0m \u001b[0mnp\u001b[0m\u001b[1;33m.\u001b[0m\u001b[0mobject_\u001b[0m\u001b[1;33m:\u001b[0m\u001b[1;33m\u001b[0m\u001b[1;33m\u001b[0m\u001b[0m\n",
      "\u001b[1;31mValueError\u001b[0m: 6 columns passed, passed data had 1 columns"
     ]
    }
   ],
   "source": [
    "columns = ['입국국가', '입국연월', '성별', '연령대', '목적', '입국']\n",
    "result_df = pd.DataFrame(result, columns=columns)\n",
    "result_df\n",
    "\n",
    "result_df.to_csv('%s_%s_%d_%d.csv' % (sexCd, ageCd, nStartYear, nEndYear), index = False)"
   ]
  },
  {
   "cell_type": "code",
   "execution_count": null,
   "id": "a908bca0",
   "metadata": {},
   "outputs": [],
   "source": []
  }
 ],
 "metadata": {
  "kernelspec": {
   "display_name": "silcream",
   "language": "python",
   "name": "silcream"
  },
  "language_info": {
   "codemirror_mode": {
    "name": "ipython",
    "version": 3
   },
   "file_extension": ".py",
   "mimetype": "text/x-python",
   "name": "python",
   "nbconvert_exporter": "python",
   "pygments_lexer": "ipython3",
   "version": "3.7.13"
  }
 },
 "nbformat": 4,
 "nbformat_minor": 5
}
