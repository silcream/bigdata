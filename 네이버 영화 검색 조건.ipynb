{
 "cells": [
  {
   "cell_type": "code",
   "execution_count": 1,
   "id": "0814d563",
   "metadata": {},
   "outputs": [],
   "source": [
    "import os\n",
    "import sys\n",
    "import urllib.request\n",
    "import urllib\n",
    "import json\n",
    "import datetime"
   ]
  },
  {
   "cell_type": "code",
   "execution_count": 2,
   "id": "118966f7",
   "metadata": {},
   "outputs": [
    {
     "name": "stdout",
     "output_type": "stream",
     "text": [
      "https://openapi.naver.com/v1/search/movie.json?query=%EA%B3%A0%EC%96%91%EC%9D%B4\n"
     ]
    }
   ],
   "source": [
    "txt = urllib.parse.quote('고양이')\n",
    "url = 'https://openapi.naver.com/v1/search/movie.json?query=' + txt\n",
    "\n",
    "print(url)"
   ]
  },
  {
   "cell_type": "code",
   "execution_count": 3,
   "id": "20325d86",
   "metadata": {},
   "outputs": [],
   "source": [
    "def getNaverSearch(node, srcText, page_start, display):\n",
    "    base = 'https://openapi.naver.com/v1/search'\n",
    "    node = '/%s.json'% node\n",
    "    movie = '드라마'\n",
    "    from1 = 2020\n",
    "    to1 = 2022\n",
    "    parameters = f'?query={urllib.parse.quote(srcText)}&genre=1&start={page_start}&display={display}&yearfrom={from1}&yearto={to1}'\n",
    "    url = base + node + parameters\n",
    "    \n",
    "    client_id = 'HoIgEQ7Sd9cx7gESumK6'\n",
    "    client_secret = 'uEVCgo4MeQ'\n",
    "    request = urllib.request.Request(url)\n",
    "    request.add_header('X-Naver-Client-Id', client_id) # add_heade : 개인정보 보호역할\n",
    "    request.add_header('X-Naver-Client-Secret', client_secret)\n",
    "#     response = urllib.request.urlopen(request)\n",
    "#     rescode = response.getcode()\n",
    "    \n",
    "    \n",
    "    try : \n",
    "        response = urllib.request.urlopen(request)\n",
    "        rescode = response.getcode()\n",
    "        if(rescode == 200):\n",
    "            response_body = response.read()\n",
    "            return json.loads(response_body.decode('utf-8'))\n",
    "    except Exception as e:\n",
    "        print(e)\n",
    "        return None"
   ]
  },
  {
   "cell_type": "code",
   "execution_count": 4,
   "id": "e07d9f2a",
   "metadata": {},
   "outputs": [],
   "source": [
    "node = 'movie'\n",
    "srcText = '고양이'\n",
    "cnt = 0\n",
    "jsonResult = []\n",
    "jsonResponse = getNaverSearch(node, srcText, 1, 10)\n",
    "total = jsonResponse['total']"
   ]
  },
  {
   "cell_type": "code",
   "execution_count": 5,
   "id": "d2bd3dac",
   "metadata": {},
   "outputs": [],
   "source": [
    "import pprint"
   ]
  },
  {
   "cell_type": "code",
   "execution_count": 6,
   "id": "bf9e21b1",
   "metadata": {},
   "outputs": [],
   "source": [
    "def getPostData(post, jsonResult, cnt):\n",
    "    title = post['title'].strip('</b>').replace('<b>', '').replace('</b>', '')\n",
    "    subtitle = post['subtitle']\n",
    "    director = post['director']\n",
    "    pubDate = post['pubDate']\n",
    "    userRating = post['userRating']\n",
    "    \n",
    "#     pDate = datetime.datetime.strptime(post['pubDate'], '%a, %d %b %Y %H:%M:%S +0900')\n",
    "#     pDate = pDate.strftime('%Y-%m-%d %H:%M:%S')\n",
    "#     print(pDate)\n",
    "    \n",
    "    jsonResult.append({'cnt' : cnt, 'title':title, 'subtitle': subtitle, 'data' :pubDate, 'dir':director, 'user' :userRating })\n",
    "    return"
   ]
  },
  {
   "cell_type": "code",
   "execution_count": 7,
   "id": "5df1b3c9",
   "metadata": {},
   "outputs": [],
   "source": [
    "node = 'movie'\n",
    "srcText = '고양이'\n",
    "cnt = 0\n",
    "jsonResult = []\n",
    "jsonResponse = getNaverSearch(node, srcText, 1, 10)\n",
    "total = jsonResponse['total']\n",
    "# getPostData(jsonResponse['items'], jsonResult, cnt)"
   ]
  },
  {
   "cell_type": "code",
   "execution_count": 8,
   "id": "58fbb1b3",
   "metadata": {},
   "outputs": [
    {
     "name": "stdout",
     "output_type": "stream",
     "text": [
      "[{'cnt': 1,\n",
      "  'data': '2021',\n",
      "  'dir': '김승민|',\n",
      "  'subtitle': '',\n",
      "  'title': '상담실의 고양이',\n",
      "  'user': '0.00'},\n",
      " {'cnt': 2,\n",
      "  'data': '2020',\n",
      "  'dir': '윌 샤프|',\n",
      "  'subtitle': 'The Electrical Life of Louis Wain',\n",
      "  'title': '루이스 웨인: 사랑을 그린 고양이 화가',\n",
      "  'user': '7.97'},\n",
      " {'cnt': 3,\n",
      "  'data': '2020',\n",
      "  'dir': '아딜칸 에르자노프|',\n",
      "  'subtitle': 'Yellow Cat',\n",
      "  'title': '노랑 고양이',\n",
      "  'user': '0.00'},\n",
      " {'cnt': 4,\n",
      "  'data': '2020',\n",
      "  'dir': '박은경|',\n",
      "  'subtitle': 'My Sis and My Cat',\n",
      "  'title': '언니는 고양이',\n",
      "  'user': '0.00'}]\n"
     ]
    }
   ],
   "source": [
    "for post in jsonResponse['items'] :\n",
    "    cnt+=1\n",
    "    getPostData(post, jsonResult, cnt)\n",
    "    \n",
    "pprint.pprint(jsonResult)"
   ]
  },
  {
   "cell_type": "code",
   "execution_count": 9,
   "id": "9447e1bb",
   "metadata": {},
   "outputs": [],
   "source": [
    "# for post in jsonResponse['items'] :\n",
    "#     cnt +=1 \n",
    "#     getPostData(post, jsonResult, cnt)\n",
    "        \n",
    "# start = jsonResponse['start'] + jsonResponse['display']\n",
    "# jsonResponse = getNaverSearch(node, srcText, start, 10)"
   ]
  },
  {
   "cell_type": "code",
   "execution_count": 10,
   "id": "e012fd73",
   "metadata": {},
   "outputs": [],
   "source": [
    "# pprint.pprint(jsonResult)"
   ]
  },
  {
   "cell_type": "code",
   "execution_count": 11,
   "id": "bd9f7545",
   "metadata": {},
   "outputs": [
    {
     "name": "stdout",
     "output_type": "stream",
     "text": [
      "가져온 데이터 : 4 건\n",
      "2020_to_2022_movie__고양이_drama.json SAVED\n"
     ]
    }
   ],
   "source": [
    "with open('2020_to_2022_movie__고양이_drama.json', 'w', encoding = 'utf8') as outfile:\n",
    "    jsonFile = json.dumps(jsonResult, ensure_ascii = False, indent = 4)\n",
    "    outfile.write(jsonFile)\n",
    "    print('가져온 데이터 : %d 건' %(cnt))\n",
    "    print('2020_to_2022_movie__고양이_drama.json SAVED' )"
   ]
  },
  {
   "cell_type": "code",
   "execution_count": 12,
   "id": "acc46952",
   "metadata": {},
   "outputs": [
    {
     "data": {
      "text/plain": [
       "[{'title': '상담실의 <b>고양이</b>',\n",
       "  'link': 'https://movie.naver.com/movie/bi/mi/basic.nhn?code=212758',\n",
       "  'image': '',\n",
       "  'subtitle': '',\n",
       "  'pubDate': '2021',\n",
       "  'director': '김승민|',\n",
       "  'actor': '주비|강진철|',\n",
       "  'userRating': '0.00'},\n",
       " {'title': '루이스 웨인: 사랑을 그린 <b>고양이</b> 화가',\n",
       "  'link': 'https://movie.naver.com/movie/bi/mi/basic.nhn?code=193961',\n",
       "  'image': 'https://ssl.pstatic.net/imgmovie/mdi/mit110/1939/193961_P15_143518.jpg',\n",
       "  'subtitle': 'The Electrical Life of Louis Wain',\n",
       "  'pubDate': '2020',\n",
       "  'director': '윌 샤프|',\n",
       "  'actor': '베네딕트 컴버배치|클레어 포이|',\n",
       "  'userRating': '7.97'},\n",
       " {'title': '노랑 <b>고양이</b>',\n",
       "  'link': 'https://movie.naver.com/movie/bi/mi/basic.nhn?code=196547',\n",
       "  'image': 'https://ssl.pstatic.net/imgmovie/mdi/mit110/1965/196547_P01_161121.jpg',\n",
       "  'subtitle': 'Yellow Cat',\n",
       "  'pubDate': '2020',\n",
       "  'director': '아딜칸 에르자노프|',\n",
       "  'actor': '아자마테 니그마노프|',\n",
       "  'userRating': '0.00'},\n",
       " {'title': '언니는 <b>고양이</b>',\n",
       "  'link': 'https://movie.naver.com/movie/bi/mi/basic.nhn?code=201283',\n",
       "  'image': '',\n",
       "  'subtitle': 'My Sis and My Cat',\n",
       "  'pubDate': '2020',\n",
       "  'director': '박은경|',\n",
       "  'actor': '전선아|김정아|',\n",
       "  'userRating': '0.00'}]"
      ]
     },
     "execution_count": 12,
     "metadata": {},
     "output_type": "execute_result"
    }
   ],
   "source": [
    "jsonResponse['items']"
   ]
  },
  {
   "cell_type": "code",
   "execution_count": 13,
   "id": "e4bee9fc",
   "metadata": {},
   "outputs": [
    {
     "data": {
      "text/plain": [
       "[{'cnt': 1,\n",
       "  'title': '상담실의 고양이',\n",
       "  'subtitle': '',\n",
       "  'data': '2021',\n",
       "  'dir': '김승민|',\n",
       "  'user': '0.00'},\n",
       " {'cnt': 2,\n",
       "  'title': '루이스 웨인: 사랑을 그린 고양이 화가',\n",
       "  'subtitle': 'The Electrical Life of Louis Wain',\n",
       "  'data': '2020',\n",
       "  'dir': '윌 샤프|',\n",
       "  'user': '7.97'},\n",
       " {'cnt': 3,\n",
       "  'title': '노랑 고양이',\n",
       "  'subtitle': 'Yellow Cat',\n",
       "  'data': '2020',\n",
       "  'dir': '아딜칸 에르자노프|',\n",
       "  'user': '0.00'},\n",
       " {'cnt': 4,\n",
       "  'title': '언니는 고양이',\n",
       "  'subtitle': 'My Sis and My Cat',\n",
       "  'data': '2020',\n",
       "  'dir': '박은경|',\n",
       "  'user': '0.00'}]"
      ]
     },
     "execution_count": 13,
     "metadata": {},
     "output_type": "execute_result"
    }
   ],
   "source": [
    "jsonResult"
   ]
  },
  {
   "cell_type": "code",
   "execution_count": null,
   "id": "cb0cf6ed",
   "metadata": {},
   "outputs": [],
   "source": []
  },
  {
   "cell_type": "code",
   "execution_count": null,
   "id": "ead25ddd",
   "metadata": {},
   "outputs": [],
   "source": []
  }
 ],
 "metadata": {
  "kernelspec": {
   "display_name": "silcream",
   "language": "python",
   "name": "silcream"
  },
  "language_info": {
   "codemirror_mode": {
    "name": "ipython",
    "version": 3
   },
   "file_extension": ".py",
   "mimetype": "text/x-python",
   "name": "python",
   "nbconvert_exporter": "python",
   "pygments_lexer": "ipython3",
   "version": "3.7.13"
  }
 },
 "nbformat": 4,
 "nbformat_minor": 5
}
