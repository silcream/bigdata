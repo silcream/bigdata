{
 "cells": [
  {
   "cell_type": "markdown",
   "id": "d8a305af",
   "metadata": {},
   "source": [
    "# 팔당댐 홍수 안전운영에 따른 한강 수위예측 AI 경진대회"
   ]
  },
  {
   "cell_type": "markdown",
   "id": "4aabeaad",
   "metadata": {},
   "source": [
    "### 필요한 라이브러리 불러오기"
   ]
  },
  {
   "cell_type": "code",
   "execution_count": 1,
   "id": "6c1b8fb0",
   "metadata": {},
   "outputs": [
    {
     "data": {
      "text/plain": [
       "'#GPU 자원이 부족한 경우 아래 코드를 이용하세요\\nfrom tensorflow.compat.v1 import ConfigProto\\nfrom tensorflow.compat.v1 import InteractiveSession\\n\\nconfig = ConfigProto()\\nconfig.gpu_options.allow_growth = True\\nsession = InteractiveSession(config=config)'"
      ]
     },
     "execution_count": 1,
     "metadata": {},
     "output_type": "execute_result"
    }
   ],
   "source": [
    "import pandas as pd\n",
    "import numpy as np\n",
    "\n",
    "from glob import glob\n",
    "from tqdm import tqdm\n",
    "from scipy import interpolate\n",
    "\n",
    "import tensorflow as tf\n",
    "from tensorflow.keras.models import Sequential\n",
    "from tensorflow.keras.layers import Dense, LSTM, GRU, AveragePooling1D, GlobalAveragePooling1D\n",
    "\n",
    "'''#GPU 자원이 부족한 경우 아래 코드를 이용하세요\n",
    "from tensorflow.compat.v1 import ConfigProto\n",
    "from tensorflow.compat.v1 import InteractiveSession\n",
    "\n",
    "config = ConfigProto()\n",
    "config.gpu_options.allow_growth = True\n",
    "session = InteractiveSession(config=config)'''"
   ]
  },
  {
   "cell_type": "markdown",
   "id": "b66ee939",
   "metadata": {},
   "source": [
    "### 데이터 전처리"
   ]
  },
  {
   "cell_type": "code",
   "execution_count": 2,
   "id": "c69f03ba",
   "metadata": {},
   "outputs": [
    {
     "data": {
      "text/plain": [
       "['competition_data/water_data\\\\data_2012.csv',\n",
       " 'competition_data/water_data\\\\data_2013.csv',\n",
       " 'competition_data/water_data\\\\data_2014.csv',\n",
       " 'competition_data/water_data\\\\data_2015.csv',\n",
       " 'competition_data/water_data\\\\data_2016.csv',\n",
       " 'competition_data/water_data\\\\data_2017.csv',\n",
       " 'competition_data/water_data\\\\data_2018.csv',\n",
       " 'competition_data/water_data\\\\data_2019.csv',\n",
       " 'competition_data/water_data\\\\data_2020.csv',\n",
       " 'competition_data/water_data\\\\data_2021.csv',\n",
       " 'competition_data/water_data\\\\data_2022.csv']"
      ]
     },
     "execution_count": 2,
     "metadata": {},
     "output_type": "execute_result"
    }
   ],
   "source": [
    "w_list = sorted(glob(\"competition_data/water_data/*.csv\"))\n",
    "w_list"
   ]
  },
  {
   "cell_type": "code",
   "execution_count": 3,
   "id": "ba77bedd",
   "metadata": {},
   "outputs": [
    {
     "data": {
      "text/plain": [
       "(26496, 15)"
      ]
     },
     "execution_count": 3,
     "metadata": {},
     "output_type": "execute_result"
    }
   ],
   "source": [
    "pd.read_csv(w_list[0]).shape"
   ]
  },
  {
   "cell_type": "markdown",
   "id": "2ad930e1",
   "metadata": {},
   "source": [
    "# 년월일시분 / 팔당댐 현재 수위 / 팔당댐 유입량 / 팔당댐 저수량 / 팔당댐 공용량 / 총 방류량 / 강화대교 조위 / 청담대교 수위 / 청담대교 유량 / 잠수교 수위 / 잠수교 유량 / 한강대교 수위 / 행주대교 수위 / 행주대교 유량"
   ]
  },
  {
   "cell_type": "code",
   "execution_count": 4,
   "id": "5d06a3db",
   "metadata": {},
   "outputs": [
    {
     "data": {
      "text/html": [
       "<div>\n",
       "<style scoped>\n",
       "    .dataframe tbody tr th:only-of-type {\n",
       "        vertical-align: middle;\n",
       "    }\n",
       "\n",
       "    .dataframe tbody tr th {\n",
       "        vertical-align: top;\n",
       "    }\n",
       "\n",
       "    .dataframe thead th {\n",
       "        text-align: right;\n",
       "    }\n",
       "</style>\n",
       "<table border=\"1\" class=\"dataframe\">\n",
       "  <thead>\n",
       "    <tr style=\"text-align: right;\">\n",
       "      <th></th>\n",
       "      <th>ymdhm</th>\n",
       "      <th>swl</th>\n",
       "      <th>inf</th>\n",
       "      <th>sfw</th>\n",
       "      <th>ecpc</th>\n",
       "      <th>tototf</th>\n",
       "      <th>tide_level</th>\n",
       "      <th>wl_1018662</th>\n",
       "      <th>fw_1018662</th>\n",
       "      <th>wl_1018680</th>\n",
       "      <th>fw_1018680</th>\n",
       "      <th>wl_1018683</th>\n",
       "      <th>fw_1018683</th>\n",
       "      <th>wl_1019630</th>\n",
       "      <th>fw_1019630</th>\n",
       "    </tr>\n",
       "  </thead>\n",
       "  <tbody>\n",
       "    <tr>\n",
       "      <th>0</th>\n",
       "      <td>2012-05-01 00:00</td>\n",
       "      <td>24.800</td>\n",
       "      <td>555.0</td>\n",
       "      <td>219.07</td>\n",
       "      <td>24.93</td>\n",
       "      <td>555.0</td>\n",
       "      <td>445.0</td>\n",
       "      <td>310.7</td>\n",
       "      <td>469.05</td>\n",
       "      <td>300.2</td>\n",
       "      <td>0.0</td>\n",
       "      <td>290.0</td>\n",
       "      <td>729.80</td>\n",
       "      <td>275.3</td>\n",
       "      <td>540.18</td>\n",
       "    </tr>\n",
       "    <tr>\n",
       "      <th>1</th>\n",
       "      <td>2012-05-01 00:10</td>\n",
       "      <td>24.794</td>\n",
       "      <td>464.6</td>\n",
       "      <td>218.86</td>\n",
       "      <td>25.15</td>\n",
       "      <td>562.9</td>\n",
       "      <td>449.0</td>\n",
       "      <td>314.7</td>\n",
       "      <td>498.00</td>\n",
       "      <td>300.2</td>\n",
       "      <td>0.0</td>\n",
       "      <td>290.0</td>\n",
       "      <td>731.48</td>\n",
       "      <td>275.3</td>\n",
       "      <td>540.18</td>\n",
       "    </tr>\n",
       "    <tr>\n",
       "      <th>2</th>\n",
       "      <td>2012-05-01 00:20</td>\n",
       "      <td>24.789</td>\n",
       "      <td>478.1</td>\n",
       "      <td>218.69</td>\n",
       "      <td>25.31</td>\n",
       "      <td>576.4</td>\n",
       "      <td>451.0</td>\n",
       "      <td>313.7</td>\n",
       "      <td>490.68</td>\n",
       "      <td>301.2</td>\n",
       "      <td>0.0</td>\n",
       "      <td>290.0</td>\n",
       "      <td>726.42</td>\n",
       "      <td>275.3</td>\n",
       "      <td>540.18</td>\n",
       "    </tr>\n",
       "    <tr>\n",
       "      <th>3</th>\n",
       "      <td>2012-05-01 00:30</td>\n",
       "      <td>24.789</td>\n",
       "      <td>464.8</td>\n",
       "      <td>218.69</td>\n",
       "      <td>25.31</td>\n",
       "      <td>563.1</td>\n",
       "      <td>452.0</td>\n",
       "      <td>311.7</td>\n",
       "      <td>476.21</td>\n",
       "      <td>301.2</td>\n",
       "      <td>0.0</td>\n",
       "      <td>290.0</td>\n",
       "      <td>726.42</td>\n",
       "      <td>276.3</td>\n",
       "      <td>552.17</td>\n",
       "    </tr>\n",
       "  </tbody>\n",
       "</table>\n",
       "</div>"
      ],
      "text/plain": [
       "              ymdhm     swl    inf     sfw   ecpc  tototf  tide_level  \\\n",
       "0  2012-05-01 00:00  24.800  555.0  219.07  24.93   555.0       445.0   \n",
       "1  2012-05-01 00:10  24.794  464.6  218.86  25.15   562.9       449.0   \n",
       "2  2012-05-01 00:20  24.789  478.1  218.69  25.31   576.4       451.0   \n",
       "3  2012-05-01 00:30  24.789  464.8  218.69  25.31   563.1       452.0   \n",
       "\n",
       "   wl_1018662  fw_1018662  wl_1018680  fw_1018680  wl_1018683  fw_1018683  \\\n",
       "0       310.7      469.05       300.2         0.0       290.0      729.80   \n",
       "1       314.7      498.00       300.2         0.0       290.0      731.48   \n",
       "2       313.7      490.68       301.2         0.0       290.0      726.42   \n",
       "3       311.7      476.21       301.2         0.0       290.0      726.42   \n",
       "\n",
       "   wl_1019630  fw_1019630  \n",
       "0       275.3      540.18  \n",
       "1       275.3      540.18  \n",
       "2       275.3      540.18  \n",
       "3       276.3      552.17  "
      ]
     },
     "execution_count": 4,
     "metadata": {},
     "output_type": "execute_result"
    }
   ],
   "source": [
    "pd.read_csv(w_list[0]).head(4)"
   ]
  },
  {
   "cell_type": "code",
   "execution_count": 5,
   "id": "f239f034",
   "metadata": {},
   "outputs": [
    {
     "name": "stderr",
     "output_type": "stream",
     "text": [
      "100%|██████████████████████████████████████████████████████████████████████████| 26064/26064 [00:14<00:00, 1846.39it/s]\n",
      "100%|██████████████████████████████████████████████████████████████████████████| 26064/26064 [00:14<00:00, 1825.31it/s]\n",
      "100%|██████████████████████████████████████████████████████████████████████████| 26064/26064 [00:14<00:00, 1799.84it/s]\n",
      "100%|██████████████████████████████████████████████████████████████████████████| 26064/26064 [00:14<00:00, 1798.60it/s]\n",
      "100%|██████████████████████████████████████████████████████████████████████████| 26064/26064 [00:14<00:00, 1790.07it/s]\n",
      "100%|██████████████████████████████████████████████████████████████████████████| 26064/26064 [00:14<00:00, 1768.45it/s]\n",
      "100%|██████████████████████████████████████████████████████████████████████████| 26064/26064 [00:14<00:00, 1756.41it/s]\n",
      "100%|██████████████████████████████████████████████████████████████████████████| 26064/26064 [00:14<00:00, 1743.48it/s]\n",
      "100%|██████████████████████████████████████████████████████████████████████████| 26064/26064 [00:15<00:00, 1722.51it/s]\n",
      "100%|██████████████████████████████████████████████████████████████████████████| 26064/26064 [00:15<00:00, 1707.38it/s]\n"
     ]
    }
   ],
   "source": [
    "train_data = []\n",
    "train_label = []\n",
    "num = 0\n",
    "\n",
    "for i in w_list[:-1]:\n",
    "    \n",
    "    tmp = pd.read_csv(i)\n",
    "    tmp = tmp.replace(\" \", np.nan)\n",
    "    tmp = tmp.interpolate(method = 'values')\n",
    "    tmp = tmp.fillna(0)\n",
    "    \n",
    "    for j in tqdm(range(len(tmp)-432)):\n",
    "        train_data.append(np.array(tmp.loc[j:j + 431, [\"swl\", \"inf\", \"sfw\", \"ecpc\",\n",
    "                                                       \"tototf\", \"tide_level\",\n",
    "                                                       \"fw_1018662\", \"fw_1018680\",\n",
    "                                                       \"fw_1018683\", \"fw_1019630\"]]).astype(float))\n",
    "        \n",
    "        train_label.append(np.array(tmp.loc[j + 432, [\"wl_1018662\", \"wl_1018680\",\n",
    "                                                      \"wl_1018683\", \"wl_1019630\"]]).astype(float))"
   ]
  },
  {
   "cell_type": "code",
   "execution_count": null,
   "id": "16196267",
   "metadata": {},
   "outputs": [],
   "source": [
    "from sklearn.preprocessing import MinMaxScaler\n",
    "transformer = MinMaxScaler()\n",
    "transformer.fit(train_data)\n",
    "train_data = transformer.transform(train_data)"
   ]
  },
  {
   "cell_type": "code",
   "execution_count": 6,
   "id": "e98f2dbb",
   "metadata": {},
   "outputs": [
    {
     "name": "stdout",
     "output_type": "stream",
     "text": [
      "(260640, 432, 10)\n",
      "(260640, 4)\n"
     ]
    }
   ],
   "source": [
    "train_data = np.array(train_data)\n",
    "train_label = np.array(train_label)\n",
    "\n",
    "print(train_data.shape)\n",
    "print(train_label.shape)"
   ]
  },
  {
   "cell_type": "markdown",
   "id": "20745967",
   "metadata": {},
   "source": [
    "### 모델링 및 모델 학습"
   ]
  },
  {
   "cell_type": "code",
   "execution_count": 7,
   "id": "9f64f1c0",
   "metadata": {},
   "outputs": [],
   "source": [
    "input_shape = (train_data[0].shape[0], train_data[0].shape[1])\n",
    "\n",
    "model = Sequential()\n",
    "model.add(GRU(256, input_shape=input_shape))\n",
    "model.add(Dense(4, activation = 'relu'))\n",
    "\n",
    "optimizer = tf.optimizers.RMSprop(0.001)\n",
    "\n",
    "model.compile(optimizer=optimizer,loss='mse', metrics=['mae'])\n"
   ]
  },
  {
   "cell_type": "code",
   "execution_count": 8,
   "id": "ad2b9cc2",
   "metadata": {},
   "outputs": [
    {
     "name": "stdout",
     "output_type": "stream",
     "text": [
      "Epoch 1/10\n",
      "2037/2037 [==============================] - 71s 31ms/step - loss: 22922.6699 - mae: 103.4684\n",
      "Epoch 2/10\n",
      "2037/2037 [==============================] - 63s 31ms/step - loss: 656.0679 - mae: 9.1563\n",
      "Epoch 3/10\n",
      "2037/2037 [==============================] - 63s 31ms/step - loss: 432.7420 - mae: 7.9663\n",
      "Epoch 4/10\n",
      "2037/2037 [==============================] - 64s 31ms/step - loss: 362.6096 - mae: 7.5787\n",
      "Epoch 5/10\n",
      "2037/2037 [==============================] - 63s 31ms/step - loss: 305.6074 - mae: 7.5019\n",
      "Epoch 6/10\n",
      "2037/2037 [==============================] - 63s 31ms/step - loss: 293.7475 - mae: 7.5123\n",
      "Epoch 7/10\n",
      "2037/2037 [==============================] - 63s 31ms/step - loss: 254.6130 - mae: 7.5706\n",
      "Epoch 8/10\n",
      "2037/2037 [==============================] - 63s 31ms/step - loss: 253.5053 - mae: 7.7600\n",
      "Epoch 9/10\n",
      "2037/2037 [==============================] - 63s 31ms/step - loss: 245.7018 - mae: 7.8559\n",
      "Epoch 10/10\n",
      "2037/2037 [==============================] - 63s 31ms/step - loss: 235.3584 - mae: 8.0068\n"
     ]
    },
    {
     "data": {
      "text/plain": [
       "<tensorflow.python.keras.callbacks.History at 0x262e6514808>"
      ]
     },
     "execution_count": 8,
     "metadata": {},
     "output_type": "execute_result"
    }
   ],
   "source": [
    "model.fit(train_data, train_label, epochs=10, batch_size=128)"
   ]
  },
  {
   "cell_type": "markdown",
   "id": "1671cfff",
   "metadata": {},
   "source": [
    "### 추론 데이터셋 만들기"
   ]
  },
  {
   "cell_type": "code",
   "execution_count": 9,
   "id": "6a4dc756",
   "metadata": {},
   "outputs": [
    {
     "name": "stderr",
     "output_type": "stream",
     "text": [
      "100%|████████████████████████████████████████████████████████████████████████████| 6912/6912 [00:04<00:00, 1607.83it/s]\n"
     ]
    }
   ],
   "source": [
    "test_data = []\n",
    "test_label = []\n",
    "\n",
    "tmp = pd.read_csv(w_list[-1])\n",
    "tmp = tmp.replace(\" \", np.nan)\n",
    "# 이전값을 사용\n",
    "tmp = tmp.fillna(method = 'pad')\n",
    "tmp = tmp.fillna(0)\n",
    "    \n",
    "#tmp.loc[:, [\"wl_1018662\", \"wl_1018680\", \"wl_1018683\", \"wl_1019630\"]] = tmp.loc[:, [\"wl_1018662\", \"wl_1018680\", \"wl_1018683\", \"wl_1019630\"]]*100\n",
    "    \n",
    "for j in tqdm(range(4032, len(tmp)-432)):\n",
    "    test_data.append(np.array(tmp.loc[j:j + 431, [\"swl\", \"inf\", \"sfw\", \"ecpc\",\n",
    "                                                    \"tototf\", \"tide_level\",\n",
    "                                                    \"fw_1018662\", \"fw_1018680\",\n",
    "                                                    \"fw_1018683\", \"fw_1019630\"]]).astype(float))\n",
    "        \n",
    "    test_label.append(np.array(tmp.loc[j + 432, [\"wl_1018662\", \"wl_1018680\",\n",
    "                                                    \"wl_1018683\", \"wl_1019630\"]]).astype(float))"
   ]
  },
  {
   "cell_type": "code",
   "execution_count": 10,
   "id": "9c948b10",
   "metadata": {},
   "outputs": [
    {
     "name": "stdout",
     "output_type": "stream",
     "text": [
      "(6912, 432, 10)\n",
      "(6912, 4)\n"
     ]
    }
   ],
   "source": [
    "test_data = np.array(test_data)\n",
    "test_label = np.array(test_label)\n",
    "\n",
    "print(test_data.shape)\n",
    "print(test_label.shape)"
   ]
  },
  {
   "cell_type": "markdown",
   "id": "a0538d7c",
   "metadata": {},
   "source": [
    "### 제출 파일 만들기"
   ]
  },
  {
   "cell_type": "code",
   "execution_count": 11,
   "id": "37e2393a",
   "metadata": {},
   "outputs": [],
   "source": [
    "pred = model.predict(test_data)"
   ]
  },
  {
   "cell_type": "code",
   "execution_count": 12,
   "id": "659d78c8",
   "metadata": {},
   "outputs": [],
   "source": [
    "pred = pd.DataFrame(pred)"
   ]
  },
  {
   "cell_type": "code",
   "execution_count": 13,
   "id": "fa85c071",
   "metadata": {},
   "outputs": [],
   "source": [
    "sample_submission = pd.read_csv(\"competition_data/sample_submission.csv\")\n",
    "\n",
    "sample_submission[\"wl_1018662\"] = pred[0]\n",
    "sample_submission[\"wl_1018680\"] = pred[1]\n",
    "sample_submission[\"wl_1018683\"] = pred[2]\n",
    "sample_submission[\"wl_1019630\"] = pred[3]"
   ]
  },
  {
   "cell_type": "code",
   "execution_count": 14,
   "id": "e457c068",
   "metadata": {},
   "outputs": [],
   "source": [
    "sample_submission.to_csv(\"baseline.csv\", index = False)"
   ]
  }
 ],
 "metadata": {
  "kernelspec": {
   "display_name": "silcream",
   "language": "python",
   "name": "silcream"
  },
  "language_info": {
   "codemirror_mode": {
    "name": "ipython",
    "version": 3
   },
   "file_extension": ".py",
   "mimetype": "text/x-python",
   "name": "python",
   "nbconvert_exporter": "python",
   "pygments_lexer": "ipython3",
   "version": "3.7.13"
  }
 },
 "nbformat": 4,
 "nbformat_minor": 5
}
